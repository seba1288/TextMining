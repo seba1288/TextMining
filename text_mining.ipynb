{
 "cells": [
  {
   "cell_type": "markdown",
   "metadata": {},
   "source": [
    "## IMPORTED PACKAGES ##"
   ]
  },
  {
   "cell_type": "code",
   "execution_count": null,
   "metadata": {},
   "outputs": [],
   "source": [
    "import os\n",
    "import json\n",
    "import string\n",
    "import pandas as pd\n",
    "from nltk.stem import PorterStemmer\n",
    "from nltk.tokenize import word_tokenize\n",
    "from nltk.corpus import PlaintextCorpusReader , stopwords\n",
    "from sklearn.feature_extraction.text import CountVectorizer, TfidfVectorizer"
   ]
  },
  {
   "cell_type": "markdown",
   "metadata": {},
   "source": [
    "# Create document corpus #"
   ]
  },
  {
   "cell_type": "code",
   "execution_count": null,
   "metadata": {},
   "outputs": [],
   "source": [
    "corpus_dir = \"./Literature-original\"\n",
    "corpus = PlaintextCorpusReader(corpus_dir, \".*\\\\.txt\")\n",
    "files_names = corpus.fileids()\n",
    "files_names\n"
   ]
  },
  {
   "cell_type": "markdown",
   "metadata": {},
   "source": [
    "### Corpus documents preprocesing"
   ]
  },
  {
   "cell_type": "code",
   "execution_count": null,
   "metadata": {},
   "outputs": [],
   "source": [
    "documents = {}\n",
    "for file_name in files_names:\n",
    "    documents[file_name] = corpus.raw(file_name)\n",
    "print( json.dumps(documents,indent=4,ensure_ascii=False))"
   ]
  },
  {
   "cell_type": "code",
   "execution_count": null,
   "metadata": {},
   "outputs": [],
   "source": [
    "lengths = {}\n",
    "for file_name in documents:\n",
    "   lengths[file_name] = {\n",
    "      \"pre\": len(word_tokenize(documents[file_name]))\n",
    "   }\n",
    "print(json.dumps(lengths,indent=4,ensure_ascii=False))"
   ]
  },
  {
   "cell_type": "code",
   "execution_count": null,
   "metadata": {},
   "outputs": [],
   "source": [
    "ps = PorterStemmer()"
   ]
  },
  {
   "cell_type": "code",
   "execution_count": null,
   "metadata": {},
   "outputs": [],
   "source": [
    "for file_name in documents:\n",
    "    documents[file_name] = documents[file_name].lower()\n",
    "    documents[file_name] = \"\".join([char for char in documents[file_name] if char not in string.punctuation])\n",
    "    documents[file_name] = \"\".join([char for char in documents[file_name] if not char.isdigit()])\n",
    "    documents[file_name] = \" \".join([ps.stem(word) for word in word_tokenize(documents[file_name])])\n",
    "    documents[file_name] = \" \".join([word for word in word_tokenize(documents[file_name]) if word not in list(stopwords.words('english'))])\n",
    "print(json.dumps(documents,indent=4,ensure_ascii=False))"
   ]
  },
  {
   "cell_type": "code",
   "execution_count": null,
   "metadata": {},
   "outputs": [],
   "source": [
    "for file_name in documents:\n",
    "    lengths[file_name][\"post\"] = len(word_tokenize(documents[file_name]))\n",
    "print(json.dumps(lengths,indent=4,ensure_ascii=False))\n",
    "\n"
   ]
  },
  {
   "cell_type": "code",
   "execution_count": null,
   "metadata": {},
   "outputs": [],
   "source": [
    "lengths = pd.DataFrame.from_dict(lengths, orient=\"index\")"
   ]
  },
  {
   "cell_type": "code",
   "execution_count": null,
   "metadata": {},
   "outputs": [],
   "source": [
    "lengths[\"diff\"] = lengths[\"pre\"] - lengths[\"post\"]\n",
    "lengths['pct'] = lengths[\"diff\"] / lengths[\"pre\"]\n",
    "lengths"
   ]
  },
  {
   "cell_type": "markdown",
   "metadata": {},
   "source": [
    "### Create frequency matrix\n"
   ]
  },
  {
   "cell_type": "code",
   "execution_count": null,
   "metadata": {},
   "outputs": [],
   "source": [
    "docs = pd.DataFrame.from_dict(documents, orient=\"index\")\n",
    "docs.columns = [\"content\"]\n",
    "docs"
   ]
  },
  {
   "cell_type": "code",
   "execution_count": null,
   "metadata": {},
   "outputs": [],
   "source": [
    "cv = CountVectorizer()\n",
    "matrix_tf = cv.fit_transform(docs[\"content\"])\n",
    "matrix_tf"
   ]
  },
  {
   "cell_type": "code",
   "execution_count": null,
   "metadata": {},
   "outputs": [],
   "source": [
    "sparsity_tf = 1 - (matrix_tf.getnnz()/(matrix_tf.shape[0]*matrix_tf.shape[1]))\n",
    "sparsity_tf"
   ]
  },
  {
   "cell_type": "code",
   "execution_count": null,
   "metadata": {},
   "outputs": [],
   "source": [
    "tv =TfidfVectorizer()\n",
    "matrix_tfidf = tv.fit_transform(docs[\"content\"])\n",
    "matrix_tfidf"
   ]
  },
  {
   "cell_type": "code",
   "execution_count": null,
   "metadata": {},
   "outputs": [],
   "source": [
    "sparsity_tfidf = 1 - (matrix_tfidf.getnnz()/(matrix_tfidf.shape[0]*matrix_tfidf.shape[1]))\n",
    "sparsity_tfidf"
   ]
  },
  {
   "cell_type": "markdown",
   "metadata": {},
   "source": [
    "### DIrectories for results\n",
    "\n"
   ]
  },
  {
   "cell_type": "code",
   "execution_count": null,
   "metadata": {},
   "outputs": [],
   "source": [
    "### wordclouds\n",
    "if not  os.path.exists(\"./wordclouds\"):\n",
    "    os.mkdir(\"./wordclouds\")\n",
    "## topic modeling\n",
    "if not  os.path.exists(\"./topic_modeling\"):\n",
    "    os.mkdir(\"./topic_modeling\")\n",
    "if not  os.path.exists(\"./topic_modeling/topics\"):\n",
    "    os.mkdir(\"./topic_modeling/topics\")\n",
    "if not  os.path.exists(\"./topic_modeling/documents\"):\n",
    "    os.mkdir(\"./topic_modeling/documents\")\n",
    "### clustering\n",
    "if not  os.path.exists(\"./clustering\"):\n",
    "    os.mkdir(\"./clustering\")\n",
    "### ngrams\n",
    "if not  os.path.exists(\"./ngrams\"):\n",
    "    os.mkdir(\"./ngrams\")\n"
   ]
  },
  {
   "cell_type": "markdown",
   "metadata": {},
   "source": [
    "### Wordclouds\n"
   ]
  },
  {
   "cell_type": "markdown",
   "metadata": {},
   "source": [
    "### Topic modeling\n"
   ]
  },
  {
   "cell_type": "markdown",
   "metadata": {},
   "source": [
    "### Clustering"
   ]
  },
  {
   "cell_type": "markdown",
   "metadata": {},
   "source": [
    "### N-grams\n"
   ]
  }
 ],
 "metadata": {
  "kernelspec": {
   "display_name": ".venv",
   "language": "python",
   "name": "python3"
  },
  "language_info": {
   "codemirror_mode": {
    "name": "ipython",
    "version": 3
   },
   "file_extension": ".py",
   "mimetype": "text/x-python",
   "name": "python",
   "nbconvert_exporter": "python",
   "pygments_lexer": "ipython3",
   "version": "3.13.5"
  }
 },
 "nbformat": 4,
 "nbformat_minor": 2
}
